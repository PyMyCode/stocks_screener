{
 "cells": [
  {
   "cell_type": "code",
   "execution_count": null,
   "metadata": {},
   "outputs": [],
   "source": [
    "import pickle\n",
    "\n",
    "# Example list\n",
    "my_list = ['currentPrice',\n",
    "            'fiftyTwoWeekHigh',\n",
    "            'fiftyTwoWeekLow', \n",
    "            'fiftyDayAverage', \n",
    "            'twoHundredDayAverage',\n",
    "            'sharesOutstanding',\n",
    "            'marketCap',\n",
    "            'floatShares',\n",
    "            'enterpriseValue',\n",
    "            ]\n",
    "\n",
    "# Store the list in a file\n",
    "with open('shareprice.pickle', 'wb') as file:\n",
    "    pickle.dump(my_list, file)"
   ]
  },
  {
   "cell_type": "code",
   "execution_count": null,
   "metadata": {},
   "outputs": [],
   "source": [
    "# Later, to load the list from the file\n",
    "with open('shareprice.pickle', 'rb') as file:\n",
    "    loaded_list = pickle.load(file)\n",
    "\n",
    "print(loaded_list)"
   ]
  }
 ],
 "metadata": {
  "kernelspec": {
   "display_name": "inv_venv",
   "language": "python",
   "name": "python3"
  },
  "language_info": {
   "name": "python",
   "version": "3.8.10"
  },
  "orig_nbformat": 4
 },
 "nbformat": 4,
 "nbformat_minor": 2
}
