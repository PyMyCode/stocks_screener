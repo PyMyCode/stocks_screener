{
 "cells": [
  {
   "cell_type": "code",
   "execution_count": 1,
   "metadata": {},
   "outputs": [],
   "source": [
    "import pickle\n",
    "\n",
    "# Example list\n",
    "my_list = [1, 2, 3, 4, 5]\n",
    "\n",
    "# Store the list in a file\n",
    "with open('list_data.pickle', 'wb') as file:\n",
    "    pickle.dump(my_list, file)"
   ]
  },
  {
   "cell_type": "code",
   "execution_count": 2,
   "metadata": {},
   "outputs": [
    {
     "name": "stdout",
     "output_type": "stream",
     "text": [
      "[1, 2, 3, 4, 5]\n"
     ]
    }
   ],
   "source": [
    "# Later, to load the list from the file\n",
    "with open('list_data.pickle', 'rb') as file:\n",
    "    loaded_list = pickle.load(file)\n",
    "\n",
    "print(loaded_list) "
   ]
  },
  {
   "cell_type": "code",
   "execution_count": 4,
   "metadata": {},
   "outputs": [],
   "source": [
    "stock = \"PAT.DE VNA.DE\"\n"
   ]
  },
  {
   "cell_type": "code",
   "execution_count": 31,
   "metadata": {},
   "outputs": [],
   "source": [
    "t = yf.Tickers(stock)"
   ]
  },
  {
   "cell_type": "code",
   "execution_count": 41,
   "metadata": {},
   "outputs": [
    {
     "data": {
      "text/plain": [
       "['PAT.DE', 'VNA.DE']"
      ]
     },
     "execution_count": 41,
     "metadata": {},
     "output_type": "execute_result"
    }
   ],
   "source": [
    "t.symbols"
   ]
  },
  {
   "cell_type": "code",
   "execution_count": 32,
   "metadata": {},
   "outputs": [],
   "source": [
    "info = t.tickers[\"VNA.DE\"].info\n",
    "# delete company"
   ]
  },
  {
   "cell_type": "code",
   "execution_count": 33,
   "metadata": {},
   "outputs": [],
   "source": [
    "df = pd.DataFrame.from_dict(info)"
   ]
  },
  {
   "cell_type": "code",
   "execution_count": 51,
   "metadata": {},
   "outputs": [
    {
     "data": {
      "text/plain": [
       "numpy.int64"
      ]
     },
     "execution_count": 51,
     "metadata": {},
     "output_type": "execute_result"
    }
   ],
   "source": [
    "type(df.size)\n",
    "\n"
   ]
  },
  {
   "cell_type": "code",
   "execution_count": 42,
   "metadata": {},
   "outputs": [],
   "source": [
    "columns_list = []\n",
    "for col_name in df:\n",
    "    if col_name[1] == \"Close\":\n",
    "        columns_list.append(pd.DataFrame(df[col_name]))\n"
   ]
  },
  {
   "cell_type": "code",
   "execution_count": 43,
   "metadata": {},
   "outputs": [],
   "source": [
    "df_concatenated = pd.concat(columns_list, axis=1)"
   ]
  },
  {
   "cell_type": "code",
   "execution_count": 44,
   "metadata": {},
   "outputs": [
    {
     "data": {
      "text/html": [
       "<div>\n",
       "<style scoped>\n",
       "    .dataframe tbody tr th:only-of-type {\n",
       "        vertical-align: middle;\n",
       "    }\n",
       "\n",
       "    .dataframe tbody tr th {\n",
       "        vertical-align: top;\n",
       "    }\n",
       "\n",
       "    .dataframe thead tr th {\n",
       "        text-align: left;\n",
       "    }\n",
       "\n",
       "    .dataframe thead tr:last-of-type th {\n",
       "        text-align: right;\n",
       "    }\n",
       "</style>\n",
       "<table border=\"1\" class=\"dataframe\">\n",
       "  <thead>\n",
       "    <tr>\n",
       "      <th></th>\n",
       "      <th>AAPL</th>\n",
       "      <th>MSFT</th>\n",
       "    </tr>\n",
       "    <tr>\n",
       "      <th></th>\n",
       "      <th>Close</th>\n",
       "      <th>Close</th>\n",
       "    </tr>\n",
       "    <tr>\n",
       "      <th>Date</th>\n",
       "      <th></th>\n",
       "      <th></th>\n",
       "    </tr>\n",
       "  </thead>\n",
       "  <tbody>\n",
       "    <tr>\n",
       "      <th>2021-06-17</th>\n",
       "      <td>131.789993</td>\n",
       "      <td>260.899994</td>\n",
       "    </tr>\n",
       "    <tr>\n",
       "      <th>2021-06-18</th>\n",
       "      <td>130.460007</td>\n",
       "      <td>259.429993</td>\n",
       "    </tr>\n",
       "    <tr>\n",
       "      <th>2021-06-21</th>\n",
       "      <td>132.300003</td>\n",
       "      <td>262.630005</td>\n",
       "    </tr>\n",
       "    <tr>\n",
       "      <th>2021-06-22</th>\n",
       "      <td>133.979996</td>\n",
       "      <td>265.510010</td>\n",
       "    </tr>\n",
       "    <tr>\n",
       "      <th>2021-06-23</th>\n",
       "      <td>133.699997</td>\n",
       "      <td>265.269989</td>\n",
       "    </tr>\n",
       "    <tr>\n",
       "      <th>...</th>\n",
       "      <td>...</td>\n",
       "      <td>...</td>\n",
       "    </tr>\n",
       "    <tr>\n",
       "      <th>2023-06-12</th>\n",
       "      <td>183.789993</td>\n",
       "      <td>331.850006</td>\n",
       "    </tr>\n",
       "    <tr>\n",
       "      <th>2023-06-13</th>\n",
       "      <td>183.309998</td>\n",
       "      <td>334.290009</td>\n",
       "    </tr>\n",
       "    <tr>\n",
       "      <th>2023-06-14</th>\n",
       "      <td>183.949997</td>\n",
       "      <td>337.339996</td>\n",
       "    </tr>\n",
       "    <tr>\n",
       "      <th>2023-06-15</th>\n",
       "      <td>186.009995</td>\n",
       "      <td>348.100006</td>\n",
       "    </tr>\n",
       "    <tr>\n",
       "      <th>2023-06-16</th>\n",
       "      <td>184.919998</td>\n",
       "      <td>342.329987</td>\n",
       "    </tr>\n",
       "  </tbody>\n",
       "</table>\n",
       "<p>504 rows × 2 columns</p>\n",
       "</div>"
      ],
      "text/plain": [
       "                  AAPL        MSFT\n",
       "                 Close       Close\n",
       "Date                              \n",
       "2021-06-17  131.789993  260.899994\n",
       "2021-06-18  130.460007  259.429993\n",
       "2021-06-21  132.300003  262.630005\n",
       "2021-06-22  133.979996  265.510010\n",
       "2021-06-23  133.699997  265.269989\n",
       "...                ...         ...\n",
       "2023-06-12  183.789993  331.850006\n",
       "2023-06-13  183.309998  334.290009\n",
       "2023-06-14  183.949997  337.339996\n",
       "2023-06-15  186.009995  348.100006\n",
       "2023-06-16  184.919998  342.329987\n",
       "\n",
       "[504 rows x 2 columns]"
      ]
     },
     "execution_count": 44,
     "metadata": {},
     "output_type": "execute_result"
    }
   ],
   "source": [
    "df_concatenated"
   ]
  },
  {
   "cell_type": "code",
   "execution_count": 28,
   "metadata": {},
   "outputs": [
    {
     "data": {
      "text/plain": [
       "Date\n",
       "2021-06-17    132.550003\n",
       "2021-06-18    131.509995\n",
       "2021-06-21    132.410004\n",
       "2021-06-22    134.080002\n",
       "2021-06-23    134.320007\n",
       "                 ...    \n",
       "2023-06-12    183.889999\n",
       "2023-06-13    184.149994\n",
       "2023-06-14    184.389999\n",
       "2023-06-15    186.520004\n",
       "2023-06-16    186.990005\n",
       "Name: (AAPL, High), Length: 504, dtype: float64"
      ]
     },
     "execution_count": 28,
     "metadata": {},
     "output_type": "execute_result"
    }
   ],
   "source": [
    "df_concatenated = pd.concat(df[x], axis=1)"
   ]
  },
  {
   "cell_type": "code",
   "execution_count": 22,
   "metadata": {},
   "outputs": [],
   "source": [
    "df_close = pd.concat([df[stock_list[0]].Close, df[stock_list[1]].Close], axis=1)"
   ]
  },
  {
   "cell_type": "code",
   "execution_count": 23,
   "metadata": {},
   "outputs": [
    {
     "data": {
      "text/html": [
       "<div>\n",
       "<style scoped>\n",
       "    .dataframe tbody tr th:only-of-type {\n",
       "        vertical-align: middle;\n",
       "    }\n",
       "\n",
       "    .dataframe tbody tr th {\n",
       "        vertical-align: top;\n",
       "    }\n",
       "\n",
       "    .dataframe thead th {\n",
       "        text-align: right;\n",
       "    }\n",
       "</style>\n",
       "<table border=\"1\" class=\"dataframe\">\n",
       "  <thead>\n",
       "    <tr style=\"text-align: right;\">\n",
       "      <th></th>\n",
       "      <th>Close</th>\n",
       "      <th>Close</th>\n",
       "    </tr>\n",
       "    <tr>\n",
       "      <th>Date</th>\n",
       "      <th></th>\n",
       "      <th></th>\n",
       "    </tr>\n",
       "  </thead>\n",
       "  <tbody>\n",
       "    <tr>\n",
       "      <th>2021-06-17</th>\n",
       "      <td>131.789993</td>\n",
       "      <td>260.899994</td>\n",
       "    </tr>\n",
       "    <tr>\n",
       "      <th>2021-06-18</th>\n",
       "      <td>130.460007</td>\n",
       "      <td>259.429993</td>\n",
       "    </tr>\n",
       "    <tr>\n",
       "      <th>2021-06-21</th>\n",
       "      <td>132.300003</td>\n",
       "      <td>262.630005</td>\n",
       "    </tr>\n",
       "    <tr>\n",
       "      <th>2021-06-22</th>\n",
       "      <td>133.979996</td>\n",
       "      <td>265.510010</td>\n",
       "    </tr>\n",
       "    <tr>\n",
       "      <th>2021-06-23</th>\n",
       "      <td>133.699997</td>\n",
       "      <td>265.269989</td>\n",
       "    </tr>\n",
       "    <tr>\n",
       "      <th>...</th>\n",
       "      <td>...</td>\n",
       "      <td>...</td>\n",
       "    </tr>\n",
       "    <tr>\n",
       "      <th>2023-06-12</th>\n",
       "      <td>183.789993</td>\n",
       "      <td>331.850006</td>\n",
       "    </tr>\n",
       "    <tr>\n",
       "      <th>2023-06-13</th>\n",
       "      <td>183.309998</td>\n",
       "      <td>334.290009</td>\n",
       "    </tr>\n",
       "    <tr>\n",
       "      <th>2023-06-14</th>\n",
       "      <td>183.949997</td>\n",
       "      <td>337.339996</td>\n",
       "    </tr>\n",
       "    <tr>\n",
       "      <th>2023-06-15</th>\n",
       "      <td>186.009995</td>\n",
       "      <td>348.100006</td>\n",
       "    </tr>\n",
       "    <tr>\n",
       "      <th>2023-06-16</th>\n",
       "      <td>184.919998</td>\n",
       "      <td>342.329987</td>\n",
       "    </tr>\n",
       "  </tbody>\n",
       "</table>\n",
       "<p>504 rows × 2 columns</p>\n",
       "</div>"
      ],
      "text/plain": [
       "                 Close       Close\n",
       "Date                              \n",
       "2021-06-17  131.789993  260.899994\n",
       "2021-06-18  130.460007  259.429993\n",
       "2021-06-21  132.300003  262.630005\n",
       "2021-06-22  133.979996  265.510010\n",
       "2021-06-23  133.699997  265.269989\n",
       "...                ...         ...\n",
       "2023-06-12  183.789993  331.850006\n",
       "2023-06-13  183.309998  334.290009\n",
       "2023-06-14  183.949997  337.339996\n",
       "2023-06-15  186.009995  348.100006\n",
       "2023-06-16  184.919998  342.329987\n",
       "\n",
       "[504 rows x 2 columns]"
      ]
     },
     "execution_count": 23,
     "metadata": {},
     "output_type": "execute_result"
    }
   ],
   "source": [
    "df_close"
   ]
  },
  {
   "cell_type": "code",
   "execution_count": 24,
   "metadata": {},
   "outputs": [
    {
     "ename": "ValueError",
     "evalue": "Length of names must match number of levels in MultiIndex.",
     "output_type": "error",
     "traceback": [
      "\u001b[0;31m---------------------------------------------------------------------------\u001b[0m",
      "\u001b[0;31mValueError\u001b[0m                                Traceback (most recent call last)",
      "\u001b[1;32m/home/malfire/Projects/streamlit/help.ipynb Cell 8\u001b[0m in \u001b[0;36m1\n\u001b[1;32m     <a href='vscode-notebook-cell:/home/malfire/Projects/streamlit/help.ipynb#X12sZmlsZQ%3D%3D?line=11'>12</a>\u001b[0m \u001b[39m# Loop through column names and append to the list\u001b[39;00m\n\u001b[1;32m     <a href='vscode-notebook-cell:/home/malfire/Projects/streamlit/help.ipynb#X12sZmlsZQ%3D%3D?line=12'>13</a>\u001b[0m \u001b[39mfor\u001b[39;00m col_name \u001b[39min\u001b[39;00m data:\n\u001b[0;32m---> <a href='vscode-notebook-cell:/home/malfire/Projects/streamlit/help.ipynb#X12sZmlsZQ%3D%3D?line=13'>14</a>\u001b[0m     index \u001b[39m=\u001b[39m pd\u001b[39m.\u001b[39;49mMultiIndex\u001b[39m.\u001b[39;49mfrom_tuples([(name,) \u001b[39mfor\u001b[39;49;00m name \u001b[39min\u001b[39;49;00m col_name], names\u001b[39m=\u001b[39;49m[\u001b[39m'\u001b[39;49m\u001b[39mGroup\u001b[39;49m\u001b[39m'\u001b[39;49m, \u001b[39m'\u001b[39;49m\u001b[39mColumn\u001b[39;49m\u001b[39m'\u001b[39;49m])\n\u001b[1;32m     <a href='vscode-notebook-cell:/home/malfire/Projects/streamlit/help.ipynb#X12sZmlsZQ%3D%3D?line=14'>15</a>\u001b[0m     columns_list\u001b[39m.\u001b[39mappend(pd\u001b[39m.\u001b[39mDataFrame(data[col_name], columns\u001b[39m=\u001b[39mindex))\n\u001b[1;32m     <a href='vscode-notebook-cell:/home/malfire/Projects/streamlit/help.ipynb#X12sZmlsZQ%3D%3D?line=16'>17</a>\u001b[0m \u001b[39m# Concatenate the columns into a DataFrame\u001b[39;00m\n",
      "File \u001b[0;32m~/.virtualenvs/inv_venv/lib/python3.8/site-packages/pandas/core/indexes/multi.py:204\u001b[0m, in \u001b[0;36mnames_compat.<locals>.new_meth\u001b[0;34m(self_or_cls, *args, **kwargs)\u001b[0m\n\u001b[1;32m    201\u001b[0m \u001b[39melif\u001b[39;00m \u001b[39m\"\u001b[39m\u001b[39mname\u001b[39m\u001b[39m\"\u001b[39m \u001b[39min\u001b[39;00m kwargs:\n\u001b[1;32m    202\u001b[0m     kwargs[\u001b[39m\"\u001b[39m\u001b[39mnames\u001b[39m\u001b[39m\"\u001b[39m] \u001b[39m=\u001b[39m kwargs\u001b[39m.\u001b[39mpop(\u001b[39m\"\u001b[39m\u001b[39mname\u001b[39m\u001b[39m\"\u001b[39m)\n\u001b[0;32m--> 204\u001b[0m \u001b[39mreturn\u001b[39;00m meth(self_or_cls, \u001b[39m*\u001b[39;49margs, \u001b[39m*\u001b[39;49m\u001b[39m*\u001b[39;49mkwargs)\n",
      "File \u001b[0;32m~/.virtualenvs/inv_venv/lib/python3.8/site-packages/pandas/core/indexes/multi.py:566\u001b[0m, in \u001b[0;36mMultiIndex.from_tuples\u001b[0;34m(cls, tuples, sortorder, names)\u001b[0m\n\u001b[1;32m    563\u001b[0m     arrs \u001b[39m=\u001b[39m \u001b[39mzip\u001b[39m(\u001b[39m*\u001b[39mtuples)\n\u001b[1;32m    564\u001b[0m     arrays \u001b[39m=\u001b[39m cast(List[Sequence[Hashable]], arrs)\n\u001b[0;32m--> 566\u001b[0m \u001b[39mreturn\u001b[39;00m \u001b[39mcls\u001b[39;49m\u001b[39m.\u001b[39;49mfrom_arrays(arrays, sortorder\u001b[39m=\u001b[39;49msortorder, names\u001b[39m=\u001b[39;49mnames)\n",
      "File \u001b[0;32m~/.virtualenvs/inv_venv/lib/python3.8/site-packages/pandas/core/indexes/multi.py:493\u001b[0m, in \u001b[0;36mMultiIndex.from_arrays\u001b[0;34m(cls, arrays, sortorder, names)\u001b[0m\n\u001b[1;32m    490\u001b[0m \u001b[39mif\u001b[39;00m names \u001b[39mis\u001b[39;00m lib\u001b[39m.\u001b[39mno_default:\n\u001b[1;32m    491\u001b[0m     names \u001b[39m=\u001b[39m [\u001b[39mgetattr\u001b[39m(arr, \u001b[39m\"\u001b[39m\u001b[39mname\u001b[39m\u001b[39m\"\u001b[39m, \u001b[39mNone\u001b[39;00m) \u001b[39mfor\u001b[39;00m arr \u001b[39min\u001b[39;00m arrays]\n\u001b[0;32m--> 493\u001b[0m \u001b[39mreturn\u001b[39;00m \u001b[39mcls\u001b[39;49m(\n\u001b[1;32m    494\u001b[0m     levels\u001b[39m=\u001b[39;49mlevels,\n\u001b[1;32m    495\u001b[0m     codes\u001b[39m=\u001b[39;49mcodes,\n\u001b[1;32m    496\u001b[0m     sortorder\u001b[39m=\u001b[39;49msortorder,\n\u001b[1;32m    497\u001b[0m     names\u001b[39m=\u001b[39;49mnames,\n\u001b[1;32m    498\u001b[0m     verify_integrity\u001b[39m=\u001b[39;49m\u001b[39mFalse\u001b[39;49;00m,\n\u001b[1;32m    499\u001b[0m )\n",
      "File \u001b[0;32m~/.virtualenvs/inv_venv/lib/python3.8/site-packages/pandas/core/indexes/multi.py:335\u001b[0m, in \u001b[0;36mMultiIndex.__new__\u001b[0;34m(cls, levels, codes, sortorder, names, dtype, copy, name, verify_integrity)\u001b[0m\n\u001b[1;32m    332\u001b[0m result\u001b[39m.\u001b[39m_names \u001b[39m=\u001b[39m [\u001b[39mNone\u001b[39;00m] \u001b[39m*\u001b[39m \u001b[39mlen\u001b[39m(levels)  \u001b[39m# type: ignore[assignment]\u001b[39;00m\n\u001b[1;32m    333\u001b[0m \u001b[39mif\u001b[39;00m names \u001b[39mis\u001b[39;00m \u001b[39mnot\u001b[39;00m \u001b[39mNone\u001b[39;00m:\n\u001b[1;32m    334\u001b[0m     \u001b[39m# handles name validation\u001b[39;00m\n\u001b[0;32m--> 335\u001b[0m     result\u001b[39m.\u001b[39;49m_set_names(names)\n\u001b[1;32m    337\u001b[0m \u001b[39mif\u001b[39;00m sortorder \u001b[39mis\u001b[39;00m \u001b[39mnot\u001b[39;00m \u001b[39mNone\u001b[39;00m:\n\u001b[1;32m    338\u001b[0m     result\u001b[39m.\u001b[39msortorder \u001b[39m=\u001b[39m \u001b[39mint\u001b[39m(sortorder)\n",
      "File \u001b[0;32m~/.virtualenvs/inv_venv/lib/python3.8/site-packages/pandas/core/indexes/multi.py:1436\u001b[0m, in \u001b[0;36mMultiIndex._set_names\u001b[0;34m(self, names, level, validate)\u001b[0m\n\u001b[1;32m   1434\u001b[0m         \u001b[39mraise\u001b[39;00m \u001b[39mValueError\u001b[39;00m(\u001b[39m\"\u001b[39m\u001b[39mLength of names must match length of level.\u001b[39m\u001b[39m\"\u001b[39m)\n\u001b[1;32m   1435\u001b[0m     \u001b[39mif\u001b[39;00m level \u001b[39mis\u001b[39;00m \u001b[39mNone\u001b[39;00m \u001b[39mand\u001b[39;00m \u001b[39mlen\u001b[39m(names) \u001b[39m!=\u001b[39m \u001b[39mself\u001b[39m\u001b[39m.\u001b[39mnlevels:\n\u001b[0;32m-> 1436\u001b[0m         \u001b[39mraise\u001b[39;00m \u001b[39mValueError\u001b[39;00m(\n\u001b[1;32m   1437\u001b[0m             \u001b[39m\"\u001b[39m\u001b[39mLength of names must match number of levels in MultiIndex.\u001b[39m\u001b[39m\"\u001b[39m\n\u001b[1;32m   1438\u001b[0m         )\n\u001b[1;32m   1440\u001b[0m \u001b[39mif\u001b[39;00m level \u001b[39mis\u001b[39;00m \u001b[39mNone\u001b[39;00m:\n\u001b[1;32m   1441\u001b[0m     level \u001b[39m=\u001b[39m \u001b[39mrange\u001b[39m(\u001b[39mself\u001b[39m\u001b[39m.\u001b[39mnlevels)\n",
      "\u001b[0;31mValueError\u001b[0m: Length of names must match number of levels in MultiIndex."
     ]
    }
   ],
   "source": [
    "\n",
    "# Sample data with multi-index\n",
    "data = {\n",
    "    ('Group1', 'Column1'): [1, 2, 3],\n",
    "    ('Group1', 'Column2'): [4, 5, 6],\n",
    "    ('Group2', 'Column1'): [7, 8, 9],\n",
    "    ('Group2', 'Column2'): [10, 11, 12]\n",
    "}\n",
    "\n",
    "# Create an empty list to store columns\n",
    "columns_list = []\n",
    "\n",
    "# Loop through column names and append to the list\n",
    "for col_name in data:\n",
    "    index = pd.MultiIndex.from_tuples([(name,) for name in col_name], names=['Group', 'Column'])\n",
    "    columns_list.append(pd.DataFrame(data[col_name], columns=index))\n",
    "\n",
    "# Concatenate the columns into a DataFrame\n",
    "df_concatenated = pd.concat(columns_list, axis=1)\n",
    "\n",
    "# Print the concatenated DataFrame\n",
    "print(df_concatenated)"
   ]
  },
  {
   "cell_type": "code",
   "execution_count": null,
   "metadata": {},
   "outputs": [],
   "source": []
  }
 ],
 "metadata": {
  "kernelspec": {
   "display_name": "inv_venv",
   "language": "python",
   "name": "python3"
  },
  "language_info": {
   "codemirror_mode": {
    "name": "ipython",
    "version": 3
   },
   "file_extension": ".py",
   "mimetype": "text/x-python",
   "name": "python",
   "nbconvert_exporter": "python",
   "pygments_lexer": "ipython3",
   "version": "3.8.10"
  },
  "orig_nbformat": 4
 },
 "nbformat": 4,
 "nbformat_minor": 2
}
