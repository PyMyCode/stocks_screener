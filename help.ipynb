{
 "cells": [
  {
   "cell_type": "code",
   "execution_count": 1,
   "metadata": {},
   "outputs": [],
   "source": [
    "import yfinance as yf"
   ]
  },
  {
   "cell_type": "code",
   "execution_count": 6,
   "metadata": {},
   "outputs": [],
   "source": [
    "stock = \"PAT.DE VNA.DE\""
   ]
  },
  {
   "cell_type": "code",
   "execution_count": 7,
   "metadata": {},
   "outputs": [],
   "source": [
    "t = yf.Tickers(stock)"
   ]
  },
  {
   "cell_type": "code",
   "execution_count": 14,
   "metadata": {},
   "outputs": [
    {
     "data": {
      "text/plain": [
       "Date\n",
       "2014-05-12 00:00:00+02:00    0.468082\n",
       "2015-05-04 00:00:00+02:00    0.521577\n",
       "2016-05-13 00:00:00+02:00    0.749755\n",
       "2017-05-17 00:00:00+02:00    0.893325\n",
       "2018-05-10 00:00:00+02:00    1.052848\n",
       "2019-05-17 00:00:00+02:00    1.148561\n",
       "2020-05-14 00:00:00+02:00    1.570000\n",
       "2020-07-01 00:00:00+02:00    1.252251\n",
       "2021-04-19 00:00:00+02:00    1.347964\n",
       "2022-05-02 00:00:00+02:00    1.660000\n",
       "2023-05-18 00:00:00+02:00    0.850000\n",
       "Name: Dividends, dtype: float64"
      ]
     },
     "execution_count": 14,
     "metadata": {},
     "output_type": "execute_result"
    }
   ],
   "source": [
    "t.tickers[\"VNA.DE\"].dividends"
   ]
  },
  {
   "cell_type": "code",
   "execution_count": 10,
   "metadata": {},
   "outputs": [
    {
     "data": {
      "text/plain": [
       "Date\n",
       "2007-06-14 00:00:00+02:00    0.093138\n",
       "2018-06-21 00:00:00+02:00    0.250000\n",
       "2019-05-23 00:00:00+02:00    0.270000\n",
       "2020-07-02 00:00:00+02:00    0.290000\n",
       "2021-07-26 00:00:00+02:00    0.300000\n",
       "2021-10-15 00:00:00+02:00    0.300000\n",
       "2022-06-02 00:00:00+02:00    0.320000\n",
       "2023-05-26 00:00:00+02:00    0.330000\n",
       "Name: Dividends, dtype: float64"
      ]
     },
     "execution_count": 10,
     "metadata": {},
     "output_type": "execute_result"
    }
   ],
   "source": [
    "t.tickers[\"PAT.DE\"].dividends"
   ]
  },
  {
   "cell_type": "code",
   "execution_count": null,
   "metadata": {},
   "outputs": [],
   "source": []
  }
 ],
 "metadata": {
  "kernelspec": {
   "display_name": "inv_venv",
   "language": "python",
   "name": "python3"
  },
  "language_info": {
   "codemirror_mode": {
    "name": "ipython",
    "version": 3
   },
   "file_extension": ".py",
   "mimetype": "text/x-python",
   "name": "python",
   "nbconvert_exporter": "python",
   "pygments_lexer": "ipython3",
   "version": "3.8.10"
  },
  "orig_nbformat": 4
 },
 "nbformat": 4,
 "nbformat_minor": 2
}
