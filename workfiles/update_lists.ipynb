{
 "cells": [
  {
   "cell_type": "code",
   "execution_count": 1,
   "metadata": {},
   "outputs": [],
   "source": [
    "import pickle"
   ]
  },
  {
   "attachments": {},
   "cell_type": "markdown",
   "metadata": {},
   "source": [
    "shareprice"
   ]
  },
  {
   "cell_type": "code",
   "execution_count": null,
   "metadata": {},
   "outputs": [],
   "source": [
    "my_list = ['currentPrice',\n",
    "            'fiftyTwoWeekHigh',\n",
    "            'fiftyTwoWeekLow', \n",
    "            'fiftyDayAverage', \n",
    "            'twoHundredDayAverage',\n",
    "            'sharesOutstanding',\n",
    "            'marketCap',\n",
    "            'floatShares',\n",
    "            'enterpriseValue',\n",
    "            ]\n",
    "\n",
    "# Store the list in a file\n",
    "with open('shareprice.pickle', 'wb') as file:\n",
    "    pickle.dump(my_list, file)"
   ]
  },
  {
   "cell_type": "code",
   "execution_count": null,
   "metadata": {},
   "outputs": [],
   "source": [
    "# Later, to load the list from the file\n",
    "with open('shareprice.pickle', 'rb') as file:\n",
    "    loaded_list = pickle.load(file)\n",
    "\n",
    "print(loaded_list)"
   ]
  },
  {
   "attachments": {},
   "cell_type": "markdown",
   "metadata": {},
   "source": [
    "Dividend"
   ]
  },
  {
   "cell_type": "code",
   "execution_count": 4,
   "metadata": {},
   "outputs": [],
   "source": [
    "my_list = [\n",
    "    'currentPrice',\n",
    "    'dividendRate',\n",
    "    'dividendYield',\n",
    "    'trailingAnnualDividendRate',\n",
    "    'trailingAnnualDividendYield',\n",
    "    'payoutRatio'\n",
    " ]\n",
    "\n",
    "# Store the list in a file\n",
    "with open('dividend.pickle', 'wb') as file:\n",
    "    pickle.dump(my_list, file)"
   ]
  },
  {
   "cell_type": "code",
   "execution_count": 5,
   "metadata": {},
   "outputs": [
    {
     "name": "stdout",
     "output_type": "stream",
     "text": [
      "['currentPrice', 'dividendRate', 'dividendYield', 'trailingAnnualDividendRate', 'trailingAnnualDividendYield', 'payoutRatio']\n"
     ]
    }
   ],
   "source": [
    "# Later, to load the list from the file\n",
    "with open('dividend.pickle', 'rb') as file:\n",
    "    loaded_list = pickle.load(file)\n",
    "\n",
    "print(loaded_list)"
   ]
  },
  {
   "cell_type": "code",
   "execution_count": null,
   "metadata": {},
   "outputs": [],
   "source": []
  }
 ],
 "metadata": {
  "kernelspec": {
   "display_name": "inv_venv",
   "language": "python",
   "name": "python3"
  },
  "language_info": {
   "codemirror_mode": {
    "name": "ipython",
    "version": 3
   },
   "file_extension": ".py",
   "mimetype": "text/x-python",
   "name": "python",
   "nbconvert_exporter": "python",
   "pygments_lexer": "ipython3",
   "version": "3.8.10"
  },
  "orig_nbformat": 4
 },
 "nbformat": 4,
 "nbformat_minor": 2
}
