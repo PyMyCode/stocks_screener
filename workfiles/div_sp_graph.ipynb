{
 "cells": [
  {
   "cell_type": "code",
   "execution_count": 1,
   "metadata": {},
   "outputs": [],
   "source": [
    "import yfinance as yf\n",
    "import pandas as pd"
   ]
  },
  {
   "cell_type": "code",
   "execution_count": 2,
   "metadata": {},
   "outputs": [],
   "source": [
    "stock = \"VNA.DE\"\n"
   ]
  },
  {
   "cell_type": "code",
   "execution_count": 3,
   "metadata": {},
   "outputs": [],
   "source": [
    "t = yf.Tickers(stock)"
   ]
  },
  {
   "attachments": {},
   "cell_type": "markdown",
   "metadata": {},
   "source": [
    "### Dividents"
   ]
  },
  {
   "cell_type": "code",
   "execution_count": 4,
   "metadata": {},
   "outputs": [],
   "source": [
    "df_div = t.tickers[stock].dividends"
   ]
  },
  {
   "cell_type": "code",
   "execution_count": 5,
   "metadata": {},
   "outputs": [
    {
     "name": "stdout",
     "output_type": "stream",
     "text": [
      "type:<class 'pandas.core.series.Series'>\n"
     ]
    }
   ],
   "source": [
    "print(f\"type:{type(df_div)}\")"
   ]
  },
  {
   "cell_type": "code",
   "execution_count": 6,
   "metadata": {},
   "outputs": [
    {
     "data": {
      "text/plain": [
       "Date\n",
       "2014-05-12 00:00:00+02:00    0.468082\n",
       "2015-05-04 00:00:00+02:00    0.521577\n",
       "2016-05-13 00:00:00+02:00    0.749755\n",
       "2017-05-17 00:00:00+02:00    0.893325\n",
       "2018-05-10 00:00:00+02:00    1.052848\n",
       "2019-05-17 00:00:00+02:00    1.148561\n",
       "2020-05-14 00:00:00+02:00    1.570000\n",
       "2020-07-01 00:00:00+02:00    1.252251\n",
       "Name: Dividends, dtype: float64"
      ]
     },
     "execution_count": 6,
     "metadata": {},
     "output_type": "execute_result"
    }
   ],
   "source": [
    "df_div.head(8)"
   ]
  },
  {
   "cell_type": "code",
   "execution_count": 7,
   "metadata": {},
   "outputs": [],
   "source": [
    "dates= df_div.index.date"
   ]
  },
  {
   "cell_type": "code",
   "execution_count": 8,
   "metadata": {},
   "outputs": [
    {
     "data": {
      "text/plain": [
       "datetime.date(2014, 5, 12)"
      ]
     },
     "execution_count": 8,
     "metadata": {},
     "output_type": "execute_result"
    }
   ],
   "source": [
    "dates[0]"
   ]
  },
  {
   "attachments": {},
   "cell_type": "markdown",
   "metadata": {},
   "source": [
    "### Stock Price"
   ]
  },
  {
   "cell_type": "code",
   "execution_count": 22,
   "metadata": {},
   "outputs": [
    {
     "name": "stdout",
     "output_type": "stream",
     "text": [
      "VNA.DE: fixed 33/95 value=0 errors in 1h price data\n",
      "VNA.DE: fixed 19/19 value=0 errors in 1d price data\n",
      "[*********************100%***********************]  1 of 1 completed\n"
     ]
    }
   ],
   "source": [
    "df_sp = yf.download(\n",
    "        tickers = stock,\n",
    "        period = \"max\",\n",
    "        interval = \"1d\",\n",
    "        group_by = 'ticker',\n",
    "        prepost = False,\n",
    "        repair = True\n",
    "        )"
   ]
  },
  {
   "cell_type": "code",
   "execution_count": 23,
   "metadata": {},
   "outputs": [
    {
     "data": {
      "text/html": [
       "<div>\n",
       "<style scoped>\n",
       "    .dataframe tbody tr th:only-of-type {\n",
       "        vertical-align: middle;\n",
       "    }\n",
       "\n",
       "    .dataframe tbody tr th {\n",
       "        vertical-align: top;\n",
       "    }\n",
       "\n",
       "    .dataframe thead th {\n",
       "        text-align: right;\n",
       "    }\n",
       "</style>\n",
       "<table border=\"1\" class=\"dataframe\">\n",
       "  <thead>\n",
       "    <tr style=\"text-align: right;\">\n",
       "      <th></th>\n",
       "      <th>Open</th>\n",
       "      <th>High</th>\n",
       "      <th>Low</th>\n",
       "      <th>Close</th>\n",
       "      <th>Adj Close</th>\n",
       "      <th>Volume</th>\n",
       "    </tr>\n",
       "    <tr>\n",
       "      <th>Date</th>\n",
       "      <th></th>\n",
       "      <th></th>\n",
       "      <th></th>\n",
       "      <th></th>\n",
       "      <th></th>\n",
       "      <th></th>\n",
       "    </tr>\n",
       "  </thead>\n",
       "  <tbody>\n",
       "    <tr>\n",
       "      <th>2013-07-11</th>\n",
       "      <td>14.336004</td>\n",
       "      <td>14.755185</td>\n",
       "      <td>14.310853</td>\n",
       "      <td>14.713267</td>\n",
       "      <td>10.688135</td>\n",
       "      <td>3899256</td>\n",
       "    </tr>\n",
       "    <tr>\n",
       "      <th>2013-07-12</th>\n",
       "      <td>14.688116</td>\n",
       "      <td>15.065379</td>\n",
       "      <td>14.671349</td>\n",
       "      <td>14.755185</td>\n",
       "      <td>10.718585</td>\n",
       "      <td>540935</td>\n",
       "    </tr>\n",
       "    <tr>\n",
       "      <th>2013-07-15</th>\n",
       "      <td>14.839021</td>\n",
       "      <td>15.124065</td>\n",
       "      <td>14.713267</td>\n",
       "      <td>15.124065</td>\n",
       "      <td>10.986550</td>\n",
       "      <td>382730</td>\n",
       "    </tr>\n",
       "    <tr>\n",
       "      <th>2013-07-16</th>\n",
       "      <td>15.233052</td>\n",
       "      <td>15.509712</td>\n",
       "      <td>15.065379</td>\n",
       "      <td>15.090530</td>\n",
       "      <td>10.962189</td>\n",
       "      <td>289282</td>\n",
       "    </tr>\n",
       "    <tr>\n",
       "      <th>2013-07-17</th>\n",
       "      <td>15.300121</td>\n",
       "      <td>15.300121</td>\n",
       "      <td>15.006694</td>\n",
       "      <td>15.216285</td>\n",
       "      <td>11.053542</td>\n",
       "      <td>1223409</td>\n",
       "    </tr>\n",
       "  </tbody>\n",
       "</table>\n",
       "</div>"
      ],
      "text/plain": [
       "                 Open       High        Low      Close  Adj Close   Volume\n",
       "Date                                                                      \n",
       "2013-07-11  14.336004  14.755185  14.310853  14.713267  10.688135  3899256\n",
       "2013-07-12  14.688116  15.065379  14.671349  14.755185  10.718585   540935\n",
       "2013-07-15  14.839021  15.124065  14.713267  15.124065  10.986550   382730\n",
       "2013-07-16  15.233052  15.509712  15.065379  15.090530  10.962189   289282\n",
       "2013-07-17  15.300121  15.300121  15.006694  15.216285  11.053542  1223409"
      ]
     },
     "execution_count": 23,
     "metadata": {},
     "output_type": "execute_result"
    }
   ],
   "source": [
    "df_sp.head()"
   ]
  },
  {
   "cell_type": "code",
   "execution_count": 24,
   "metadata": {},
   "outputs": [
    {
     "data": {
      "text/plain": [
       "DatetimeIndex(['2013-07-11', '2013-07-12', '2013-07-15', '2013-07-16',\n",
       "               '2013-07-17', '2013-07-18', '2013-07-19', '2013-07-22',\n",
       "               '2013-07-23', '2013-07-24',\n",
       "               ...\n",
       "               '2023-06-23', '2023-06-26', '2023-06-27', '2023-06-28',\n",
       "               '2023-06-29', '2023-06-30', '2023-07-03', '2023-07-04',\n",
       "               '2023-07-05', '2023-07-06'],\n",
       "              dtype='datetime64[ns]', name='Date', length=2535, freq=None)"
      ]
     },
     "execution_count": 24,
     "metadata": {},
     "output_type": "execute_result"
    }
   ],
   "source": [
    "df_sp.index"
   ]
  },
  {
   "attachments": {},
   "cell_type": "markdown",
   "metadata": {},
   "source": [
    "### Joining"
   ]
  },
  {
   "cell_type": "code",
   "execution_count": 25,
   "metadata": {},
   "outputs": [],
   "source": [
    "div = df_div.copy()\n",
    "div = pd.DataFrame(div)\n",
    "sp = df_sp.copy()"
   ]
  },
  {
   "cell_type": "code",
   "execution_count": 26,
   "metadata": {},
   "outputs": [
    {
     "data": {
      "text/plain": [
       "DatetimeIndex(['2014-05-12', '2015-05-04', '2016-05-13', '2017-05-17',\n",
       "               '2018-05-10', '2019-05-17', '2020-05-14', '2020-07-01',\n",
       "               '2021-04-19', '2022-05-02', '2023-05-18'],\n",
       "              dtype='datetime64[ns]', name='Date', freq=None)"
      ]
     },
     "execution_count": 26,
     "metadata": {},
     "output_type": "execute_result"
    }
   ],
   "source": [
    "div=div.tz_localize(None)\n",
    "div.index"
   ]
  },
  {
   "cell_type": "code",
   "execution_count": 27,
   "metadata": {},
   "outputs": [],
   "source": [
    "combined = sp.join(div, lsuffix='_sp', rsuffix='_div')"
   ]
  },
  {
   "cell_type": "code",
   "execution_count": 28,
   "metadata": {},
   "outputs": [
    {
     "data": {
      "text/html": [
       "<div>\n",
       "<style scoped>\n",
       "    .dataframe tbody tr th:only-of-type {\n",
       "        vertical-align: middle;\n",
       "    }\n",
       "\n",
       "    .dataframe tbody tr th {\n",
       "        vertical-align: top;\n",
       "    }\n",
       "\n",
       "    .dataframe thead th {\n",
       "        text-align: right;\n",
       "    }\n",
       "</style>\n",
       "<table border=\"1\" class=\"dataframe\">\n",
       "  <thead>\n",
       "    <tr style=\"text-align: right;\">\n",
       "      <th></th>\n",
       "      <th>Open</th>\n",
       "      <th>High</th>\n",
       "      <th>Low</th>\n",
       "      <th>Close</th>\n",
       "      <th>Adj Close</th>\n",
       "      <th>Volume</th>\n",
       "      <th>Dividends</th>\n",
       "    </tr>\n",
       "    <tr>\n",
       "      <th>Date</th>\n",
       "      <th></th>\n",
       "      <th></th>\n",
       "      <th></th>\n",
       "      <th></th>\n",
       "      <th></th>\n",
       "      <th></th>\n",
       "      <th></th>\n",
       "    </tr>\n",
       "  </thead>\n",
       "  <tbody>\n",
       "    <tr>\n",
       "      <th>2013-07-11</th>\n",
       "      <td>14.336004</td>\n",
       "      <td>14.755185</td>\n",
       "      <td>14.310853</td>\n",
       "      <td>14.713267</td>\n",
       "      <td>10.688135</td>\n",
       "      <td>3899256</td>\n",
       "      <td>NaN</td>\n",
       "    </tr>\n",
       "    <tr>\n",
       "      <th>2013-07-12</th>\n",
       "      <td>14.688116</td>\n",
       "      <td>15.065379</td>\n",
       "      <td>14.671349</td>\n",
       "      <td>14.755185</td>\n",
       "      <td>10.718585</td>\n",
       "      <td>540935</td>\n",
       "      <td>NaN</td>\n",
       "    </tr>\n",
       "    <tr>\n",
       "      <th>2013-07-15</th>\n",
       "      <td>14.839021</td>\n",
       "      <td>15.124065</td>\n",
       "      <td>14.713267</td>\n",
       "      <td>15.124065</td>\n",
       "      <td>10.986550</td>\n",
       "      <td>382730</td>\n",
       "      <td>NaN</td>\n",
       "    </tr>\n",
       "    <tr>\n",
       "      <th>2013-07-16</th>\n",
       "      <td>15.233052</td>\n",
       "      <td>15.509712</td>\n",
       "      <td>15.065379</td>\n",
       "      <td>15.090530</td>\n",
       "      <td>10.962189</td>\n",
       "      <td>289282</td>\n",
       "      <td>NaN</td>\n",
       "    </tr>\n",
       "    <tr>\n",
       "      <th>2013-07-17</th>\n",
       "      <td>15.300121</td>\n",
       "      <td>15.300121</td>\n",
       "      <td>15.006694</td>\n",
       "      <td>15.216285</td>\n",
       "      <td>11.053542</td>\n",
       "      <td>1223409</td>\n",
       "      <td>NaN</td>\n",
       "    </tr>\n",
       "  </tbody>\n",
       "</table>\n",
       "</div>"
      ],
      "text/plain": [
       "                 Open       High        Low      Close  Adj Close   Volume  \\\n",
       "Date                                                                         \n",
       "2013-07-11  14.336004  14.755185  14.310853  14.713267  10.688135  3899256   \n",
       "2013-07-12  14.688116  15.065379  14.671349  14.755185  10.718585   540935   \n",
       "2013-07-15  14.839021  15.124065  14.713267  15.124065  10.986550   382730   \n",
       "2013-07-16  15.233052  15.509712  15.065379  15.090530  10.962189   289282   \n",
       "2013-07-17  15.300121  15.300121  15.006694  15.216285  11.053542  1223409   \n",
       "\n",
       "            Dividends  \n",
       "Date                   \n",
       "2013-07-11        NaN  \n",
       "2013-07-12        NaN  \n",
       "2013-07-15        NaN  \n",
       "2013-07-16        NaN  \n",
       "2013-07-17        NaN  "
      ]
     },
     "execution_count": 28,
     "metadata": {},
     "output_type": "execute_result"
    }
   ],
   "source": [
    "combined.head()"
   ]
  },
  {
   "cell_type": "code",
   "execution_count": 29,
   "metadata": {},
   "outputs": [
    {
     "data": {
      "text/plain": [
       "(2535, 7)"
      ]
     },
     "execution_count": 29,
     "metadata": {},
     "output_type": "execute_result"
    }
   ],
   "source": [
    "combined.shape"
   ]
  },
  {
   "cell_type": "code",
   "execution_count": 30,
   "metadata": {},
   "outputs": [
    {
     "data": {
      "text/html": [
       "<div>\n",
       "<style scoped>\n",
       "    .dataframe tbody tr th:only-of-type {\n",
       "        vertical-align: middle;\n",
       "    }\n",
       "\n",
       "    .dataframe tbody tr th {\n",
       "        vertical-align: top;\n",
       "    }\n",
       "\n",
       "    .dataframe thead th {\n",
       "        text-align: right;\n",
       "    }\n",
       "</style>\n",
       "<table border=\"1\" class=\"dataframe\">\n",
       "  <thead>\n",
       "    <tr style=\"text-align: right;\">\n",
       "      <th></th>\n",
       "      <th>Open</th>\n",
       "      <th>High</th>\n",
       "      <th>Low</th>\n",
       "      <th>Close</th>\n",
       "      <th>Adj Close</th>\n",
       "      <th>Volume</th>\n",
       "      <th>Dividends</th>\n",
       "    </tr>\n",
       "  </thead>\n",
       "  <tbody>\n",
       "    <tr>\n",
       "      <th>count</th>\n",
       "      <td>2535.000000</td>\n",
       "      <td>2535.000000</td>\n",
       "      <td>2535.000000</td>\n",
       "      <td>2535.000000</td>\n",
       "      <td>2535.000000</td>\n",
       "      <td>2.535000e+03</td>\n",
       "      <td>11.000000</td>\n",
       "    </tr>\n",
       "    <tr>\n",
       "      <th>mean</th>\n",
       "      <td>35.739793</td>\n",
       "      <td>36.079668</td>\n",
       "      <td>35.360399</td>\n",
       "      <td>35.716613</td>\n",
       "      <td>30.007637</td>\n",
       "      <td>1.553424e+06</td>\n",
       "      <td>1.046760</td>\n",
       "    </tr>\n",
       "    <tr>\n",
       "      <th>std</th>\n",
       "      <td>12.783412</td>\n",
       "      <td>12.883812</td>\n",
       "      <td>12.687570</td>\n",
       "      <td>12.787032</td>\n",
       "      <td>12.062205</td>\n",
       "      <td>1.513949e+06</td>\n",
       "      <td>0.394252</td>\n",
       "    </tr>\n",
       "    <tr>\n",
       "      <th>min</th>\n",
       "      <td>14.336004</td>\n",
       "      <td>14.755185</td>\n",
       "      <td>14.310853</td>\n",
       "      <td>14.713267</td>\n",
       "      <td>10.688135</td>\n",
       "      <td>0.000000e+00</td>\n",
       "      <td>0.468082</td>\n",
       "    </tr>\n",
       "    <tr>\n",
       "      <th>25%</th>\n",
       "      <td>26.079370</td>\n",
       "      <td>26.300604</td>\n",
       "      <td>25.748218</td>\n",
       "      <td>26.071542</td>\n",
       "      <td>20.899234</td>\n",
       "      <td>9.252770e+05</td>\n",
       "      <td>0.799878</td>\n",
       "    </tr>\n",
       "    <tr>\n",
       "      <th>50%</th>\n",
       "      <td>34.955002</td>\n",
       "      <td>35.174999</td>\n",
       "      <td>34.634998</td>\n",
       "      <td>34.965000</td>\n",
       "      <td>28.435556</td>\n",
       "      <td>1.288238e+06</td>\n",
       "      <td>1.052848</td>\n",
       "    </tr>\n",
       "    <tr>\n",
       "      <th>75%</th>\n",
       "      <td>45.639999</td>\n",
       "      <td>46.169998</td>\n",
       "      <td>45.139999</td>\n",
       "      <td>45.580000</td>\n",
       "      <td>38.316311</td>\n",
       "      <td>1.831148e+06</td>\n",
       "      <td>1.300107</td>\n",
       "    </tr>\n",
       "    <tr>\n",
       "      <th>max</th>\n",
       "      <td>62.520000</td>\n",
       "      <td>62.740002</td>\n",
       "      <td>61.580002</td>\n",
       "      <td>62.220001</td>\n",
       "      <td>55.440014</td>\n",
       "      <td>2.896657e+07</td>\n",
       "      <td>1.660000</td>\n",
       "    </tr>\n",
       "  </tbody>\n",
       "</table>\n",
       "</div>"
      ],
      "text/plain": [
       "              Open         High          Low        Close    Adj Close  \\\n",
       "count  2535.000000  2535.000000  2535.000000  2535.000000  2535.000000   \n",
       "mean     35.739793    36.079668    35.360399    35.716613    30.007637   \n",
       "std      12.783412    12.883812    12.687570    12.787032    12.062205   \n",
       "min      14.336004    14.755185    14.310853    14.713267    10.688135   \n",
       "25%      26.079370    26.300604    25.748218    26.071542    20.899234   \n",
       "50%      34.955002    35.174999    34.634998    34.965000    28.435556   \n",
       "75%      45.639999    46.169998    45.139999    45.580000    38.316311   \n",
       "max      62.520000    62.740002    61.580002    62.220001    55.440014   \n",
       "\n",
       "             Volume  Dividends  \n",
       "count  2.535000e+03  11.000000  \n",
       "mean   1.553424e+06   1.046760  \n",
       "std    1.513949e+06   0.394252  \n",
       "min    0.000000e+00   0.468082  \n",
       "25%    9.252770e+05   0.799878  \n",
       "50%    1.288238e+06   1.052848  \n",
       "75%    1.831148e+06   1.300107  \n",
       "max    2.896657e+07   1.660000  "
      ]
     },
     "execution_count": 30,
     "metadata": {},
     "output_type": "execute_result"
    }
   ],
   "source": [
    "combined.describe()"
   ]
  },
  {
   "attachments": {},
   "cell_type": "markdown",
   "metadata": {},
   "source": [
    "### Graphing"
   ]
  },
  {
   "cell_type": "code",
   "execution_count": 31,
   "metadata": {},
   "outputs": [],
   "source": [
    "import matplotlib.pyplot as plt # importing the scripting interface\n",
    "import matplotlib as mpl\n",
    "\n",
    "%matplotlib inline"
   ]
  },
  {
   "cell_type": "code",
   "execution_count": 32,
   "metadata": {},
   "outputs": [],
   "source": [
    "annotations = combined[combined['Dividends'].notnull()]"
   ]
  },
  {
   "cell_type": "code",
   "execution_count": 33,
   "metadata": {},
   "outputs": [
    {
     "data": {
      "image/png": "[encoded data removed]",
      "text/plain": [
       "<Figure size 1500x600 with 1 Axes>"
      ]
     },
     "metadata": {},
     "output_type": "display_data"
    }
   ],
   "source": [
    "\n",
    "# Create the figure and axes\n",
    "from numpy import NaN\n",
    "\n",
    "\n",
    "fig, ax = plt.subplots(figsize=(15, 6))\n",
    "\n",
    "# Plot the line chart\n",
    "ax.plot(combined.index, combined.Close, label='Line Chart')\n",
    "\n",
    "# Set labels and title\n",
    "ax.set_xlabel('Time')\n",
    "ax.set_ylabel('Share Price')\n",
    "ax.set_title('Shapre Price')\n",
    "\n",
    "# Add a legend\n",
    "ax.legend()\n",
    "\n",
    "# adding x ticker\n",
    "#ax.set_xticks(combined.index, rotation=\"vertical\")\n",
    "\n",
    "# Add annotations based on the 'label' column\n",
    "for i, row in annotations.iterrows():\n",
    "    x = i\n",
    "    y = row[\"Close\"]\n",
    "    label = row['Dividends']\n",
    "    ax.annotate(label, (x, y), textcoords=\"offset points\", xytext=(0,50), ha='center',\n",
    "                arrowprops=dict(arrowstyle = '-', connectionstyle = 'arc3',facecolor='red'))\n",
    "\n",
    "# Display the plot\n",
    "plt.show()\n"
   ]
  },
  {
   "cell_type": "code",
   "execution_count": 21,
   "metadata": {},
   "outputs": [],
   "source": [
    "\n",
    "# Add annotations based on the 'label' column\n",
    "for i, row in combined.iterrows():\n",
    "    x = i\n",
    "    y = row[\"Close\"]\n",
    "    label = row['Dividends']\n",
    "    ax.annotate(label, (x, y), textcoords=\"offset points\", xytext=(0,10), ha='center')\n",
    "\n",
    "# Display the plot\n",
    "plt.show()"
   ]
  },
  {
   "cell_type": "code",
   "execution_count": null,
   "metadata": {},
   "outputs": [],
   "source": []
  }
 ],
 "metadata": {
  "kernelspec": {
   "display_name": "inv_venv",
   "language": "python",
   "name": "python3"
  },
  "language_info": {
   "codemirror_mode": {
    "name": "ipython",
    "version": 3
   },
   "file_extension": ".py",
   "mimetype": "text/x-python",
   "name": "python",
   "nbconvert_exporter": "python",
   "pygments_lexer": "ipython3",
   "version": "3.8.10"
  },
  "orig_nbformat": 4
 },
 "nbformat": 4,
 "nbformat_minor": 2
}
