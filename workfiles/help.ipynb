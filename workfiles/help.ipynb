{
 "cells": [
  {
   "cell_type": "code",
   "execution_count": 1,
   "metadata": {},
   "outputs": [],
   "source": [
    "import yfinance as yf\n",
    "import pandas as pd"
   ]
  },
  {
   "cell_type": "code",
   "execution_count": 2,
   "metadata": {},
   "outputs": [],
   "source": [
    "stock = \"PAT.DE\"\n"
   ]
  },
  {
   "cell_type": "code",
   "execution_count": 3,
   "metadata": {},
   "outputs": [],
   "source": [
    "t = yf.Tickers(stock)"
   ]
  },
  {
   "attachments": {},
   "cell_type": "markdown",
   "metadata": {},
   "source": [
    "### Dividents"
   ]
  },
  {
   "cell_type": "code",
   "execution_count": 6,
   "metadata": {},
   "outputs": [],
   "source": [
    "df_div = t.tickers[stock].dividends"
   ]
  },
  {
   "cell_type": "code",
   "execution_count": 10,
   "metadata": {},
   "outputs": [
    {
     "name": "stdout",
     "output_type": "stream",
     "text": [
      "type:<class 'pandas.core.series.Series'>\n"
     ]
    }
   ],
   "source": [
    "print(f\"type:{type(df_div)}\")"
   ]
  },
  {
   "cell_type": "code",
   "execution_count": 38,
   "metadata": {},
   "outputs": [
    {
     "data": {
      "text/plain": [
       "Date\n",
       "2007-06-14 00:00:00+02:00    0.093138\n",
       "2018-06-21 00:00:00+02:00    0.250000\n",
       "2019-05-23 00:00:00+02:00    0.270000\n",
       "2020-07-02 00:00:00+02:00    0.290000\n",
       "2021-07-26 00:00:00+02:00    0.300000\n",
       "2021-10-15 00:00:00+02:00    0.300000\n",
       "2022-06-02 00:00:00+02:00    0.320000\n",
       "2023-05-26 00:00:00+02:00    0.330000\n",
       "Name: Dividends, dtype: float64"
      ]
     },
     "execution_count": 38,
     "metadata": {},
     "output_type": "execute_result"
    }
   ],
   "source": [
    "df_div.head(8)"
   ]
  },
  {
   "cell_type": "code",
   "execution_count": 20,
   "metadata": {},
   "outputs": [],
   "source": [
    "dates= df_div.index.date"
   ]
  },
  {
   "cell_type": "code",
   "execution_count": 22,
   "metadata": {},
   "outputs": [
    {
     "data": {
      "text/plain": [
       "datetime.date(2007, 6, 14)"
      ]
     },
     "execution_count": 22,
     "metadata": {},
     "output_type": "execute_result"
    }
   ],
   "source": [
    "dates[0]"
   ]
  },
  {
   "attachments": {},
   "cell_type": "markdown",
   "metadata": {},
   "source": [
    "### Stock Price"
   ]
  },
  {
   "cell_type": "code",
   "execution_count": 14,
   "metadata": {},
   "outputs": [
    {
     "name": "stdout",
     "output_type": "stream",
     "text": [
      "PAT.DE: fixed 9/2739 value=0 errors in 5m price data\n",
      "PAT.DE: fixed 5/815 value=0 errors in 15m price data\n",
      "PAT.DE: fixed 18/49 value=0 errors in 1h price data\n",
      "PAT.DE: fixed 26/26 value=0 errors in 1d price data\n",
      "[*********************100%***********************]  1 of 1 completed\n"
     ]
    }
   ],
   "source": [
    "df_sp = yf.download(\n",
    "        tickers = stock,\n",
    "        period = \"5y\",\n",
    "        interval = \"1d\",\n",
    "        group_by = 'ticker',\n",
    "        prepost = False,\n",
    "        repair = True\n",
    "        )"
   ]
  },
  {
   "cell_type": "code",
   "execution_count": 15,
   "metadata": {},
   "outputs": [
    {
     "data": {
      "text/html": [
       "<div>\n",
       "<style scoped>\n",
       "    .dataframe tbody tr th:only-of-type {\n",
       "        vertical-align: middle;\n",
       "    }\n",
       "\n",
       "    .dataframe tbody tr th {\n",
       "        vertical-align: top;\n",
       "    }\n",
       "\n",
       "    .dataframe thead th {\n",
       "        text-align: right;\n",
       "    }\n",
       "</style>\n",
       "<table border=\"1\" class=\"dataframe\">\n",
       "  <thead>\n",
       "    <tr style=\"text-align: right;\">\n",
       "      <th></th>\n",
       "      <th>Open</th>\n",
       "      <th>High</th>\n",
       "      <th>Low</th>\n",
       "      <th>Close</th>\n",
       "      <th>Adj Close</th>\n",
       "      <th>Volume</th>\n",
       "    </tr>\n",
       "    <tr>\n",
       "      <th>Date</th>\n",
       "      <th></th>\n",
       "      <th></th>\n",
       "      <th></th>\n",
       "      <th></th>\n",
       "      <th></th>\n",
       "      <th></th>\n",
       "    </tr>\n",
       "  </thead>\n",
       "  <tbody>\n",
       "    <tr>\n",
       "      <th>2018-07-06</th>\n",
       "      <td>16.41</td>\n",
       "      <td>16.77</td>\n",
       "      <td>16.379999</td>\n",
       "      <td>16.549999</td>\n",
       "      <td>14.662682</td>\n",
       "      <td>50997</td>\n",
       "    </tr>\n",
       "    <tr>\n",
       "      <th>2018-07-09</th>\n",
       "      <td>16.58</td>\n",
       "      <td>16.60</td>\n",
       "      <td>16.250000</td>\n",
       "      <td>16.510000</td>\n",
       "      <td>14.627247</td>\n",
       "      <td>54766</td>\n",
       "    </tr>\n",
       "    <tr>\n",
       "      <th>2018-07-10</th>\n",
       "      <td>16.51</td>\n",
       "      <td>17.01</td>\n",
       "      <td>16.480000</td>\n",
       "      <td>17.010000</td>\n",
       "      <td>15.070228</td>\n",
       "      <td>68830</td>\n",
       "    </tr>\n",
       "    <tr>\n",
       "      <th>2018-07-11</th>\n",
       "      <td>16.90</td>\n",
       "      <td>16.90</td>\n",
       "      <td>16.450001</td>\n",
       "      <td>16.809999</td>\n",
       "      <td>14.893034</td>\n",
       "      <td>42142</td>\n",
       "    </tr>\n",
       "    <tr>\n",
       "      <th>2018-07-12</th>\n",
       "      <td>16.84</td>\n",
       "      <td>16.93</td>\n",
       "      <td>16.379999</td>\n",
       "      <td>16.580000</td>\n",
       "      <td>14.689263</td>\n",
       "      <td>97881</td>\n",
       "    </tr>\n",
       "  </tbody>\n",
       "</table>\n",
       "</div>"
      ],
      "text/plain": [
       "             Open   High        Low      Close  Adj Close  Volume\n",
       "Date                                                             \n",
       "2018-07-06  16.41  16.77  16.379999  16.549999  14.662682   50997\n",
       "2018-07-09  16.58  16.60  16.250000  16.510000  14.627247   54766\n",
       "2018-07-10  16.51  17.01  16.480000  17.010000  15.070228   68830\n",
       "2018-07-11  16.90  16.90  16.450001  16.809999  14.893034   42142\n",
       "2018-07-12  16.84  16.93  16.379999  16.580000  14.689263   97881"
      ]
     },
     "execution_count": 15,
     "metadata": {},
     "output_type": "execute_result"
    }
   ],
   "source": [
    "df_sp.head()"
   ]
  },
  {
   "cell_type": "code",
   "execution_count": 17,
   "metadata": {},
   "outputs": [
    {
     "data": {
      "text/plain": [
       "DatetimeIndex(['2018-07-06', '2018-07-09', '2018-07-10', '2018-07-11',\n",
       "               '2018-07-12', '2018-07-13', '2018-07-16', '2018-07-17',\n",
       "               '2018-07-18', '2018-07-19',\n",
       "               ...\n",
       "               '2023-06-23', '2023-06-26', '2023-06-27', '2023-06-28',\n",
       "               '2023-06-29', '2023-06-30', '2023-07-03', '2023-07-04',\n",
       "               '2023-07-05', '2023-07-06'],\n",
       "              dtype='datetime64[ns]', name='Date', length=1270, freq=None)"
      ]
     },
     "execution_count": 17,
     "metadata": {},
     "output_type": "execute_result"
    }
   ],
   "source": [
    "df_sp.index"
   ]
  },
  {
   "attachments": {},
   "cell_type": "markdown",
   "metadata": {},
   "source": [
    "### Joining"
   ]
  },
  {
   "cell_type": "code",
   "execution_count": 26,
   "metadata": {},
   "outputs": [],
   "source": [
    "div = df_div.copy()\n",
    "div = pd.DataFrame(div)\n",
    "sp = df_sp.copy()"
   ]
  },
  {
   "cell_type": "code",
   "execution_count": 30,
   "metadata": {},
   "outputs": [
    {
     "data": {
      "text/plain": [
       "DatetimeIndex(['2007-06-14', '2018-06-21', '2019-05-23', '2020-07-02',\n",
       "               '2021-07-26', '2021-10-15', '2022-06-02', '2023-05-26'],\n",
       "              dtype='datetime64[ns]', name='Date', freq=None)"
      ]
     },
     "execution_count": 30,
     "metadata": {},
     "output_type": "execute_result"
    }
   ],
   "source": [
    "div=div.tz_localize(None)\n",
    "div.index"
   ]
  },
  {
   "cell_type": "code",
   "execution_count": 33,
   "metadata": {},
   "outputs": [],
   "source": [
    "combined = sp.join(div, lsuffix='_sp', rsuffix='_div')"
   ]
  },
  {
   "cell_type": "code",
   "execution_count": 34,
   "metadata": {},
   "outputs": [
    {
     "data": {
      "text/html": [
       "<div>\n",
       "<style scoped>\n",
       "    .dataframe tbody tr th:only-of-type {\n",
       "        vertical-align: middle;\n",
       "    }\n",
       "\n",
       "    .dataframe tbody tr th {\n",
       "        vertical-align: top;\n",
       "    }\n",
       "\n",
       "    .dataframe thead th {\n",
       "        text-align: right;\n",
       "    }\n",
       "</style>\n",
       "<table border=\"1\" class=\"dataframe\">\n",
       "  <thead>\n",
       "    <tr style=\"text-align: right;\">\n",
       "      <th></th>\n",
       "      <th>Open</th>\n",
       "      <th>High</th>\n",
       "      <th>Low</th>\n",
       "      <th>Close</th>\n",
       "      <th>Adj Close</th>\n",
       "      <th>Volume</th>\n",
       "      <th>Dividends</th>\n",
       "    </tr>\n",
       "    <tr>\n",
       "      <th>Date</th>\n",
       "      <th></th>\n",
       "      <th></th>\n",
       "      <th></th>\n",
       "      <th></th>\n",
       "      <th></th>\n",
       "      <th></th>\n",
       "      <th></th>\n",
       "    </tr>\n",
       "  </thead>\n",
       "  <tbody>\n",
       "    <tr>\n",
       "      <th>2018-07-06</th>\n",
       "      <td>16.41</td>\n",
       "      <td>16.77</td>\n",
       "      <td>16.379999</td>\n",
       "      <td>16.549999</td>\n",
       "      <td>14.662682</td>\n",
       "      <td>50997</td>\n",
       "      <td>NaN</td>\n",
       "    </tr>\n",
       "    <tr>\n",
       "      <th>2018-07-09</th>\n",
       "      <td>16.58</td>\n",
       "      <td>16.60</td>\n",
       "      <td>16.250000</td>\n",
       "      <td>16.510000</td>\n",
       "      <td>14.627247</td>\n",
       "      <td>54766</td>\n",
       "      <td>NaN</td>\n",
       "    </tr>\n",
       "    <tr>\n",
       "      <th>2018-07-10</th>\n",
       "      <td>16.51</td>\n",
       "      <td>17.01</td>\n",
       "      <td>16.480000</td>\n",
       "      <td>17.010000</td>\n",
       "      <td>15.070228</td>\n",
       "      <td>68830</td>\n",
       "      <td>NaN</td>\n",
       "    </tr>\n",
       "    <tr>\n",
       "      <th>2018-07-11</th>\n",
       "      <td>16.90</td>\n",
       "      <td>16.90</td>\n",
       "      <td>16.450001</td>\n",
       "      <td>16.809999</td>\n",
       "      <td>14.893034</td>\n",
       "      <td>42142</td>\n",
       "      <td>NaN</td>\n",
       "    </tr>\n",
       "    <tr>\n",
       "      <th>2018-07-12</th>\n",
       "      <td>16.84</td>\n",
       "      <td>16.93</td>\n",
       "      <td>16.379999</td>\n",
       "      <td>16.580000</td>\n",
       "      <td>14.689263</td>\n",
       "      <td>97881</td>\n",
       "      <td>NaN</td>\n",
       "    </tr>\n",
       "  </tbody>\n",
       "</table>\n",
       "</div>"
      ],
      "text/plain": [
       "             Open   High        Low      Close  Adj Close  Volume  Dividends\n",
       "Date                                                                        \n",
       "2018-07-06  16.41  16.77  16.379999  16.549999  14.662682   50997        NaN\n",
       "2018-07-09  16.58  16.60  16.250000  16.510000  14.627247   54766        NaN\n",
       "2018-07-10  16.51  17.01  16.480000  17.010000  15.070228   68830        NaN\n",
       "2018-07-11  16.90  16.90  16.450001  16.809999  14.893034   42142        NaN\n",
       "2018-07-12  16.84  16.93  16.379999  16.580000  14.689263   97881        NaN"
      ]
     },
     "execution_count": 34,
     "metadata": {},
     "output_type": "execute_result"
    }
   ],
   "source": [
    "combined.head()"
   ]
  },
  {
   "cell_type": "code",
   "execution_count": 45,
   "metadata": {},
   "outputs": [
    {
     "data": {
      "text/plain": [
       "(1270, 7)"
      ]
     },
     "execution_count": 45,
     "metadata": {},
     "output_type": "execute_result"
    }
   ],
   "source": [
    "combined.shape"
   ]
  },
  {
   "cell_type": "code",
   "execution_count": 40,
   "metadata": {},
   "outputs": [
    {
     "data": {
      "text/html": [
       "<div>\n",
       "<style scoped>\n",
       "    .dataframe tbody tr th:only-of-type {\n",
       "        vertical-align: middle;\n",
       "    }\n",
       "\n",
       "    .dataframe tbody tr th {\n",
       "        vertical-align: top;\n",
       "    }\n",
       "\n",
       "    .dataframe thead th {\n",
       "        text-align: right;\n",
       "    }\n",
       "</style>\n",
       "<table border=\"1\" class=\"dataframe\">\n",
       "  <thead>\n",
       "    <tr style=\"text-align: right;\">\n",
       "      <th></th>\n",
       "      <th>Open</th>\n",
       "      <th>High</th>\n",
       "      <th>Low</th>\n",
       "      <th>Close</th>\n",
       "      <th>Adj Close</th>\n",
       "      <th>Volume</th>\n",
       "      <th>Dividends</th>\n",
       "    </tr>\n",
       "  </thead>\n",
       "  <tbody>\n",
       "    <tr>\n",
       "      <th>count</th>\n",
       "      <td>1270.000000</td>\n",
       "      <td>1270.000000</td>\n",
       "      <td>1270.000000</td>\n",
       "      <td>1270.000000</td>\n",
       "      <td>1270.000000</td>\n",
       "      <td>1270.000000</td>\n",
       "      <td>6.000000</td>\n",
       "    </tr>\n",
       "    <tr>\n",
       "      <th>mean</th>\n",
       "      <td>17.958362</td>\n",
       "      <td>18.209268</td>\n",
       "      <td>17.696811</td>\n",
       "      <td>17.948197</td>\n",
       "      <td>16.419379</td>\n",
       "      <td>63950.410236</td>\n",
       "      <td>0.301667</td>\n",
       "    </tr>\n",
       "    <tr>\n",
       "      <th>std</th>\n",
       "      <td>4.781375</td>\n",
       "      <td>4.817518</td>\n",
       "      <td>4.737265</td>\n",
       "      <td>4.781764</td>\n",
       "      <td>4.184713</td>\n",
       "      <td>49132.484473</td>\n",
       "      <td>0.021370</td>\n",
       "    </tr>\n",
       "    <tr>\n",
       "      <th>min</th>\n",
       "      <td>7.000000</td>\n",
       "      <td>7.210000</td>\n",
       "      <td>6.980000</td>\n",
       "      <td>6.990000</td>\n",
       "      <td>6.715719</td>\n",
       "      <td>0.000000</td>\n",
       "      <td>0.270000</td>\n",
       "    </tr>\n",
       "    <tr>\n",
       "      <th>25%</th>\n",
       "      <td>15.870000</td>\n",
       "      <td>16.092500</td>\n",
       "      <td>15.637500</td>\n",
       "      <td>15.812500</td>\n",
       "      <td>14.136172</td>\n",
       "      <td>33191.000000</td>\n",
       "      <td>0.292500</td>\n",
       "    </tr>\n",
       "    <tr>\n",
       "      <th>50%</th>\n",
       "      <td>18.590000</td>\n",
       "      <td>18.809999</td>\n",
       "      <td>18.400000</td>\n",
       "      <td>18.600000</td>\n",
       "      <td>16.613918</td>\n",
       "      <td>50252.500000</td>\n",
       "      <td>0.300000</td>\n",
       "    </tr>\n",
       "    <tr>\n",
       "      <th>75%</th>\n",
       "      <td>21.700001</td>\n",
       "      <td>21.995000</td>\n",
       "      <td>21.400000</td>\n",
       "      <td>21.700001</td>\n",
       "      <td>19.775982</td>\n",
       "      <td>77049.750000</td>\n",
       "      <td>0.315000</td>\n",
       "    </tr>\n",
       "    <tr>\n",
       "      <th>max</th>\n",
       "      <td>26.799999</td>\n",
       "      <td>26.950001</td>\n",
       "      <td>26.400000</td>\n",
       "      <td>26.650000</td>\n",
       "      <td>24.282635</td>\n",
       "      <td>387630.000000</td>\n",
       "      <td>0.330000</td>\n",
       "    </tr>\n",
       "  </tbody>\n",
       "</table>\n",
       "</div>"
      ],
      "text/plain": [
       "              Open         High          Low        Close    Adj Close  \\\n",
       "count  1270.000000  1270.000000  1270.000000  1270.000000  1270.000000   \n",
       "mean     17.958362    18.209268    17.696811    17.948197    16.419379   \n",
       "std       4.781375     4.817518     4.737265     4.781764     4.184713   \n",
       "min       7.000000     7.210000     6.980000     6.990000     6.715719   \n",
       "25%      15.870000    16.092500    15.637500    15.812500    14.136172   \n",
       "50%      18.590000    18.809999    18.400000    18.600000    16.613918   \n",
       "75%      21.700001    21.995000    21.400000    21.700001    19.775982   \n",
       "max      26.799999    26.950001    26.400000    26.650000    24.282635   \n",
       "\n",
       "              Volume  Dividends  \n",
       "count    1270.000000   6.000000  \n",
       "mean    63950.410236   0.301667  \n",
       "std     49132.484473   0.021370  \n",
       "min         0.000000   0.270000  \n",
       "25%     33191.000000   0.292500  \n",
       "50%     50252.500000   0.300000  \n",
       "75%     77049.750000   0.315000  \n",
       "max    387630.000000   0.330000  "
      ]
     },
     "execution_count": 40,
     "metadata": {},
     "output_type": "execute_result"
    }
   ],
   "source": [
    "combined.describe()"
   ]
  },
  {
   "attachments": {},
   "cell_type": "markdown",
   "metadata": {},
   "source": [
    "### Graphing"
   ]
  },
  {
   "cell_type": "code",
   "execution_count": 80,
   "metadata": {},
   "outputs": [],
   "source": [
    "import matplotlib.pyplot as plt # importing the scripting interface\n",
    "import matplotlib as mpl\n",
    "\n",
    "%matplotlib inline"
   ]
  },
  {
   "cell_type": "code",
   "execution_count": 71,
   "metadata": {},
   "outputs": [],
   "source": [
    "annotations = combined[combined['Dividends'].notnull()]"
   ]
  },
  {
   "cell_type": "code",
   "execution_count": 89,
   "metadata": {},
   "outputs": [
    {
     "data": {
      "image/png": "[encoded data removed]",
      "text/plain": [
       "<Figure size 1500x600 with 1 Axes>"
      ]
     },
     "metadata": {},
     "output_type": "display_data"
    }
   ],
   "source": [
    "\n",
    "# Create the figure and axes\n",
    "from numpy import NaN\n",
    "\n",
    "\n",
    "fig, ax = plt.subplots(figsize=(15, 6))\n",
    "\n",
    "# Plot the line chart\n",
    "ax.plot(combined.index, combined.Close, label='Line Chart')\n",
    "\n",
    "# Set labels and title\n",
    "ax.set_xlabel('Time')\n",
    "ax.set_ylabel('Share Price')\n",
    "ax.set_title('Shapre Price')\n",
    "\n",
    "# Add a legend\n",
    "ax.legend()\n",
    "\n",
    "# adding x ticker\n",
    "#ax.set_xticks(combined.index, rotation=\"vertical\")\n",
    "\n",
    "# Add annotations based on the 'label' column\n",
    "for i, row in annotations.iterrows():\n",
    "    x = i\n",
    "    y = row[\"Close\"]\n",
    "    label = row['Dividends']\n",
    "    ax.annotate(label, (x, y), textcoords=\"offset points\", xytext=(0,50), ha='center',\n",
    "                arrowprops=dict(arrowstyle = '-', connectionstyle = 'arc3',facecolor='red'))\n",
    "\n",
    "# Display the plot\n",
    "plt.show()\n"
   ]
  },
  {
   "cell_type": "code",
   "execution_count": 68,
   "metadata": {},
   "outputs": [],
   "source": [
    "\n",
    "# Add annotations based on the 'label' column\n",
    "for i, row in combined.iterrows():\n",
    "    x = i\n",
    "    y = row[\"Close\"]\n",
    "    label = row['Dividends']\n",
    "    ax.annotate(label, (x, y), textcoords=\"offset points\", xytext=(0,10), ha='center')\n",
    "\n",
    "# Display the plot\n",
    "plt.show()"
   ]
  },
  {
   "cell_type": "code",
   "execution_count": null,
   "metadata": {},
   "outputs": [],
   "source": []
  }
 ],
 "metadata": {
  "kernelspec": {
   "display_name": "inv_venv",
   "language": "python",
   "name": "python3"
  },
  "language_info": {
   "codemirror_mode": {
    "name": "ipython",
    "version": 3
   },
   "file_extension": ".py",
   "mimetype": "text/x-python",
   "name": "python",
   "nbconvert_exporter": "python",
   "pygments_lexer": "ipython3",
   "version": "3.8.10"
  },
  "orig_nbformat": 4
 },
 "nbformat": 4,
 "nbformat_minor": 2
}
